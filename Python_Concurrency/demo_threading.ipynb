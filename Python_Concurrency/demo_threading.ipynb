{
 "cells": [
  {
   "cell_type": "code",
   "execution_count": 2,
   "metadata": {},
   "outputs": [
    {
     "name": "stdout",
     "output_type": "stream",
     "text": [
      "00\n",
      "0\n",
      "0\n",
      "0\n",
      "0\n",
      "0\n",
      "0\n",
      "0\n",
      "0\n",
      "0\n",
      "144\n",
      "\n",
      "0\n",
      "0\n",
      "0\n",
      "0\n",
      "0\n",
      "0\n",
      "34\n"
     ]
    }
   ],
   "source": [
    "import threading\n",
    "from threading import Thread\n",
    "\n",
    "class FibThread(threading.Thread):\n",
    "    def __init__(self, num):\n",
    "        Thread.__init__(self)\n",
    "        self.num = num\n",
    "        \n",
    "    def run(self):\n",
    "        fib = [0]*(self.num+1)\n",
    "        fib[0], fib[1] = 0, 1\n",
    "        for i in range(2, self.num+1):\n",
    "            fib[i] = fib[i-1] + fib[i-2]\n",
    "            print(fib[self.num])\n",
    "\n",
    "myFibTask1 = FibThread(9)\n",
    "myFibTask2 = FibThread(12)\n",
    "\n",
    "myFibTask1.start()\n",
    "myFibTask2.start()\n",
    "\n",
    "myFibTask1.join()\n",
    "myFibTask2.join()"
   ]
  },
  {
   "cell_type": "code",
   "execution_count": null,
   "metadata": {},
   "outputs": [],
   "source": []
  }
 ],
 "metadata": {
  "kernelspec": {
   "display_name": "Python 3",
   "language": "python",
   "name": "python3"
  },
  "language_info": {
   "codemirror_mode": {
    "name": "ipython",
    "version": 3
   },
   "file_extension": ".py",
   "mimetype": "text/x-python",
   "name": "python",
   "nbconvert_exporter": "python",
   "pygments_lexer": "ipython3",
   "version": "3.6.8"
  }
 },
 "nbformat": 4,
 "nbformat_minor": 2
}
