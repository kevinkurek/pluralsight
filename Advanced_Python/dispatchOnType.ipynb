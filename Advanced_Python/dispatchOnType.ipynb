{
 "cells": [
  {
   "cell_type": "markdown",
   "metadata": {},
   "source": [
    "# Dispatching on Type"
   ]
  },
  {
   "cell_type": "code",
   "execution_count": 16,
   "metadata": {},
   "outputs": [
    {
     "name": "stdout",
     "output_type": "stream",
     "text": [
      "●\n",
      "▲\n"
     ]
    }
   ],
   "source": [
    "# Traditional OOP\n",
    "\n",
    "class Shape:\n",
    "    def __init__(self, solid):\n",
    "        self.solid = solid\n",
    "\n",
    "class Circle(Shape):\n",
    "    def __init__(self, center, radius, *args, **kwargs):\n",
    "        super().__init__(*args, **kwargs)\n",
    "        self.center = center\n",
    "        self.radius = radius\n",
    "        \n",
    "    def draw(self):\n",
    "        print(\"\\u25CF\" if self.solid else \"\\u25A1\")\n",
    "        \n",
    "class Triangle(Shape):\n",
    "    def __init__(self, pa, pb, pc, *args, **kwargs):\n",
    "        super().__init__(*args, **kwargs)\n",
    "        self.pa = pa\n",
    "        self.pb = pb\n",
    "        self.pc = pc\n",
    "        \n",
    "    def draw(self):\n",
    "        print(\"\\u25B2\" if self.solid else \"\\u25B3\")\n",
    "        \n",
    "shapes = [Circle(center=(0,0), radius=2, solid=True), \n",
    "          Triangle(pa=(0,0), pb=(0,2), pc=(2,0), solid=True)]\n",
    "for shape in shapes:\n",
    "    shape.draw()"
   ]
  },
  {
   "cell_type": "code",
   "execution_count": 21,
   "metadata": {},
   "outputs": [
    {
     "name": "stdout",
     "output_type": "stream",
     "text": [
      "●\n",
      "▲\n"
     ]
    }
   ],
   "source": [
    "### Dispatch on Type\n",
    "# Why? The draw method has nothing to do with shapeness and should be independent and not a method\n",
    "\n",
    "from functools import singledispatch\n",
    "\n",
    "class Circle(Shape):\n",
    "    def __init__(self, center, radius, *args, **kwargs):\n",
    "        super().__init__(*args, **kwargs)\n",
    "        self.center = center\n",
    "        self.radius = radius\n",
    "        \n",
    "class Triangle(Shape):\n",
    "    def __init__(self, pa, pb, pc, *args, **kwargs):\n",
    "        super().__init__(*args, **kwargs)\n",
    "        self.pa = pa\n",
    "        self.pb = pb\n",
    "        self.pc = pc\n",
    "\n",
    "# Now drawing is dependent on shape, but not shapes on drawing\n",
    "\n",
    "@singledispatch # object returned by this decorator is bound to name \"draw\"\n",
    "def draw(shape):\n",
    "    raise TypeError(\"Don't know how to draw {!r}\".format(shape))\n",
    "    \n",
    "@draw.register(Circle) # overload for Circle type\n",
    "def _(shape):\n",
    "    print(\"\\u25CF\" if shape.solid else \"\\u25A1\")\n",
    "    \n",
    "@draw.register(Triangle) # overload for Triangle type\n",
    "def _(shape):\n",
    "    print(\"\\u25B2\" if shape.solid else \"\\u25B3\")\n",
    "    \n",
    "    \n",
    "shapes = [Circle(center=(0,0), radius=2, solid=True), \n",
    "          Triangle(pa=(0,0), pb=(0,2), pc=(2,0), solid=True)]\n",
    "for shape in shapes:\n",
    "    draw(shape)"
   ]
  },
  {
   "cell_type": "code",
   "execution_count": null,
   "metadata": {},
   "outputs": [],
   "source": []
  }
 ],
 "metadata": {
  "kernelspec": {
   "display_name": "Python 3",
   "language": "python",
   "name": "python3"
  },
  "language_info": {
   "codemirror_mode": {
    "name": "ipython",
    "version": 3
   },
   "file_extension": ".py",
   "mimetype": "text/x-python",
   "name": "python",
   "nbconvert_exporter": "python",
   "pygments_lexer": "ipython3",
   "version": "3.8.3"
  }
 },
 "nbformat": 4,
 "nbformat_minor": 4
}
